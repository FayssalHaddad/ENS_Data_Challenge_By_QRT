{
 "cells": [
  {
   "cell_type": "code",
   "execution_count": 2,
   "metadata": {},
   "outputs": [],
   "source": [
    "import numpy as np\n",
    "import pandas as pd\n",
    "from scipy.stats import spearmanr\n",
    "from sklearn.linear_model import LinearRegression\n",
    "import matplotlib.pyplot as plt"
   ]
  },
  {
   "cell_type": "code",
   "execution_count": null,
   "metadata": {},
   "outputs": [],
   "source": [
    "# Data processing, modeling, and model evaluation\n",
    "from sklearn.preprocessing import StandardScaler\n",
    "from sklearn.decomposition import PCA\n",
    "from sklearn.neighbors import KNeighborsClassifier\n",
    "from sklearn.model_selection import train_test_split\n",
    "from sklearn.metrics import f1_score, classification_report, plot_confusion_matrix\n",
    "\n",
    "# Randomization\n",
    "import random"
   ]
  },
  {
   "cell_type": "code",
   "execution_count": 3,
   "metadata": {},
   "outputs": [],
   "source": [
    "X_train = pd.read_csv(r'C:/Users/ait/Desktop/project/X_train_NHkHMNU.csv')\n",
    "Y_train = pd.read_csv(r'C:/Users/ait/Desktop/project/y_train.csv')\n",
    "X_test = pd.read_csv(r'C:/Users/ait/Desktop/project/X_test_final.csv')"
   ]
  },
  {
   "cell_type": "code",
   "execution_count": 4,
   "metadata": {},
   "outputs": [
    {
     "data": {
      "text/plain": [
       "(1494, 35)"
      ]
     },
     "execution_count": 4,
     "metadata": {},
     "output_type": "execute_result"
    }
   ],
   "source": [
    "X_train.shape"
   ]
  },
  {
   "cell_type": "code",
   "execution_count": 5,
   "metadata": {},
   "outputs": [
    {
     "data": {
      "text/plain": [
       "(1494, 2)"
      ]
     },
     "execution_count": 5,
     "metadata": {},
     "output_type": "execute_result"
    }
   ],
   "source": [
    "Y_train.shape"
   ]
  },
  {
   "cell_type": "code",
   "execution_count": 6,
   "metadata": {},
   "outputs": [
    {
     "name": "stdout",
     "output_type": "stream",
     "text": [
      "<class 'pandas.core.frame.DataFrame'>\n",
      "RangeIndex: 1494 entries, 0 to 1493\n",
      "Data columns (total 35 columns):\n",
      " #   Column            Non-Null Count  Dtype  \n",
      "---  ------            --------------  -----  \n",
      " 0   ID                1494 non-null   int64  \n",
      " 1   DAY_ID            1494 non-null   int64  \n",
      " 2   COUNTRY           1494 non-null   object \n",
      " 3   DE_CONSUMPTION    1494 non-null   float64\n",
      " 4   FR_CONSUMPTION    1494 non-null   float64\n",
      " 5   DE_FR_EXCHANGE    1469 non-null   float64\n",
      " 6   FR_DE_EXCHANGE    1469 non-null   float64\n",
      " 7   DE_NET_EXPORT     1370 non-null   float64\n",
      " 8   FR_NET_EXPORT     1424 non-null   float64\n",
      " 9   DE_NET_IMPORT     1370 non-null   float64\n",
      " 10  FR_NET_IMPORT     1424 non-null   float64\n",
      " 11  DE_GAS            1494 non-null   float64\n",
      " 12  FR_GAS            1494 non-null   float64\n",
      " 13  DE_COAL           1494 non-null   float64\n",
      " 14  FR_COAL           1494 non-null   float64\n",
      " 15  DE_HYDRO          1494 non-null   float64\n",
      " 16  FR_HYDRO          1494 non-null   float64\n",
      " 17  DE_NUCLEAR        1494 non-null   float64\n",
      " 18  FR_NUCLEAR        1494 non-null   float64\n",
      " 19  DE_SOLAR          1494 non-null   float64\n",
      " 20  FR_SOLAR          1494 non-null   float64\n",
      " 21  DE_WINDPOW        1494 non-null   float64\n",
      " 22  FR_WINDPOW        1494 non-null   float64\n",
      " 23  DE_LIGNITE        1494 non-null   float64\n",
      " 24  DE_RESIDUAL_LOAD  1494 non-null   float64\n",
      " 25  FR_RESIDUAL_LOAD  1494 non-null   float64\n",
      " 26  DE_RAIN           1400 non-null   float64\n",
      " 27  FR_RAIN           1400 non-null   float64\n",
      " 28  DE_WIND           1400 non-null   float64\n",
      " 29  FR_WIND           1400 non-null   float64\n",
      " 30  DE_TEMP           1400 non-null   float64\n",
      " 31  FR_TEMP           1400 non-null   float64\n",
      " 32  GAS_RET           1494 non-null   float64\n",
      " 33  COAL_RET          1494 non-null   float64\n",
      " 34  CARBON_RET        1494 non-null   float64\n",
      "dtypes: float64(32), int64(2), object(1)\n",
      "memory usage: 408.6+ KB\n"
     ]
    }
   ],
   "source": [
    "X_train.info()"
   ]
  },
  {
   "cell_type": "code",
   "execution_count": 7,
   "metadata": {},
   "outputs": [
    {
     "name": "stdout",
     "output_type": "stream",
     "text": [
      "<class 'pandas.core.frame.DataFrame'>\n",
      "RangeIndex: 1494 entries, 0 to 1493\n",
      "Data columns (total 2 columns):\n",
      " #   Column  Non-Null Count  Dtype  \n",
      "---  ------  --------------  -----  \n",
      " 0   ID      1494 non-null   int64  \n",
      " 1   TARGET  1494 non-null   float64\n",
      "dtypes: float64(1), int64(1)\n",
      "memory usage: 23.5 KB\n"
     ]
    }
   ],
   "source": [
    "Y_train.info()"
   ]
  },
  {
   "cell_type": "code",
   "execution_count": 8,
   "metadata": {},
   "outputs": [
    {
     "data": {
      "text/plain": [
       "True"
      ]
     },
     "execution_count": 8,
     "metadata": {},
     "output_type": "execute_result"
    }
   ],
   "source": [
    "X_train.isnull().values.any()"
   ]
  },
  {
   "cell_type": "code",
   "execution_count": 11,
   "metadata": {},
   "outputs": [
    {
     "data": {
      "text/plain": [
       "ID                  0\n",
       "DAY_ID              0\n",
       "COUNTRY             0\n",
       "DE_CONSUMPTION      0\n",
       "FR_CONSUMPTION      0\n",
       "DE_FR_EXCHANGE      0\n",
       "FR_DE_EXCHANGE      0\n",
       "DE_NET_EXPORT       0\n",
       "FR_NET_EXPORT       0\n",
       "DE_NET_IMPORT       0\n",
       "FR_NET_IMPORT       0\n",
       "DE_GAS              0\n",
       "FR_GAS              0\n",
       "DE_COAL             0\n",
       "FR_COAL             0\n",
       "DE_HYDRO            0\n",
       "FR_HYDRO            0\n",
       "DE_NUCLEAR          0\n",
       "FR_NUCLEAR          0\n",
       "DE_SOLAR            0\n",
       "FR_SOLAR            0\n",
       "DE_WINDPOW          0\n",
       "FR_WINDPOW          0\n",
       "DE_LIGNITE          0\n",
       "DE_RESIDUAL_LOAD    0\n",
       "FR_RESIDUAL_LOAD    0\n",
       "DE_RAIN             0\n",
       "FR_RAIN             0\n",
       "DE_WIND             0\n",
       "FR_WIND             0\n",
       "DE_TEMP             0\n",
       "FR_TEMP             0\n",
       "GAS_RET             0\n",
       "COAL_RET            0\n",
       "CARBON_RET          0\n",
       "dtype: int64"
      ]
     },
     "execution_count": 11,
     "metadata": {},
     "output_type": "execute_result"
    }
   ],
   "source": [
    "X_train.isna().sum()"
   ]
  },
  {
   "cell_type": "code",
   "execution_count": 10,
   "metadata": {},
   "outputs": [],
   "source": [
    "X_train = X_train.fillna(0)"
   ]
  },
  {
   "cell_type": "code",
   "execution_count": 12,
   "metadata": {},
   "outputs": [],
   "source": [
    "X_train = X_train.drop('COUNTRY', axis=1)"
   ]
  },
  {
   "cell_type": "code",
   "execution_count": 13,
   "metadata": {},
   "outputs": [
    {
     "data": {
      "text/plain": [
       "ID        0\n",
       "TARGET    0\n",
       "dtype: int64"
      ]
     },
     "execution_count": 13,
     "metadata": {},
     "output_type": "execute_result"
    }
   ],
   "source": [
    "Y_train.isna().sum()"
   ]
  },
  {
   "cell_type": "code",
   "execution_count": 15,
   "metadata": {},
   "outputs": [
    {
     "data": {
      "text/plain": [
       "count    1494.000000\n",
       "mean        0.089934\n",
       "std         1.034582\n",
       "min        -6.519268\n",
       "25%        -0.219861\n",
       "50%         0.000000\n",
       "75%         0.269719\n",
       "max         7.786578\n",
       "Name: TARGET, dtype: float64"
      ]
     },
     "execution_count": 15,
     "metadata": {},
     "output_type": "execute_result"
    }
   ],
   "source": [
    "Y_train.TARGET.describe()"
   ]
  },
  {
   "cell_type": "code",
   "execution_count": 18,
   "metadata": {},
   "outputs": [
    {
     "data": {
      "text/plain": [
       "array([[-9.99994172e-01,  3.24234764e-03, -2.81657570e-05,\n",
       "         1.73772133e-05, -2.79306627e-04,  2.79306627e-04,\n",
       "        -5.54965139e-05,  3.71150750e-04,  5.54965139e-05,\n",
       "        -3.71150750e-04,  8.34356013e-05, -6.87082173e-05,\n",
       "        -1.56785499e-04, -3.98954436e-05,  1.65524351e-04,\n",
       "         2.10859773e-04,  3.51589001e-04,  2.52086123e-04,\n",
       "        -5.59922737e-05, -1.95020854e-04, -3.74955270e-05,\n",
       "        -4.17489303e-05, -7.72600154e-05,  4.24993533e-05,\n",
       "         4.25703103e-05,  2.22924132e-05,  1.65202846e-06,\n",
       "        -4.06508277e-04, -4.23386247e-04, -4.90428159e-05,\n",
       "        -7.66651729e-05, -1.95157147e-05,  3.36854789e-07,\n",
       "        -1.93153113e-05],\n",
       "       [ 3.24235231e-03,  9.99994653e-01, -3.73877623e-05,\n",
       "         2.95143329e-05,  6.36392174e-05, -6.36392174e-05,\n",
       "         1.08340604e-04,  2.46864468e-05, -1.08340604e-04,\n",
       "        -2.46864468e-05, -1.28190134e-04, -4.99895677e-05,\n",
       "        -1.54872913e-06, -3.08529400e-06, -1.66643600e-04,\n",
       "         8.63842261e-05,  8.11790273e-05,  8.27013521e-05,\n",
       "        -1.07020076e-04, -5.07102677e-05,  1.00974254e-04,\n",
       "        -1.43395077e-05, -7.34183768e-05, -9.14537269e-05,\n",
       "         3.58366403e-05,  5.44991947e-05, -7.13361673e-05,\n",
       "         4.41479177e-05, -2.83130338e-06, -1.01754888e-05,\n",
       "         6.94075207e-05, -1.25808279e-04, -8.72033446e-05,\n",
       "         1.53986185e-05]])"
      ]
     },
     "execution_count": 18,
     "metadata": {},
     "output_type": "execute_result"
    }
   ],
   "source": [
    "from sklearn.decomposition import PCA\n",
    "columns=X_train.columns.values #Store the name of the columns for labeling\n",
    "pca=PCA(n_components=2)\n",
    "pca.fit(X_train)\n",
    "pca_values=pca.components_\n",
    "pca.components_"
   ]
  },
  {
   "cell_type": "code",
   "execution_count": 19,
   "metadata": {},
   "outputs": [
    {
     "data": {
      "text/plain": [
       "<Figure size 1000x1000 with 0 Axes>"
      ]
     },
     "metadata": {},
     "output_type": "display_data"
    }
   ],
   "source": [
    "import matplotlib.pyplot as plt\n",
    " \n",
    "plt.figure(figsize=(10,10))\n",
    "plt.rcParams.update({'font.size': 14})"
   ]
  },
  {
   "cell_type": "code",
   "execution_count": 20,
   "metadata": {},
   "outputs": [
    {
     "data": {
      "text/plain": [
       "[<matplotlib.lines.Line2D at 0x17d56576750>]"
      ]
     },
     "execution_count": 20,
     "metadata": {},
     "output_type": "execute_result"
    },
    {
     "data": {
      "image/png": "[encoded data removed]",
      "text/plain": [
       "<Figure size 640x480 with 1 Axes>"
      ]
     },
     "metadata": {},
     "output_type": "display_data"
    }
   ],
   "source": [
    "#Plot circle\n",
    "#Create a list of 500 points with equal spacing between -1 and 1\n",
    "import numpy as np\n",
    "x=np.linspace(start=-1,stop=1,num=500)\n",
    "#Find y1 and y2 for these points\n",
    "y_positive=lambda x: np.sqrt(1-x**2) \n",
    "y_negative=lambda x: -np.sqrt(1-x**2)\n",
    "plt.plot(x,list(map(y_positive, x)), color='maroon')\n",
    "plt.plot(x,list(map(y_negative, x)),color='maroon')"
   ]
  },
  {
   "cell_type": "code",
   "execution_count": 21,
   "metadata": {},
   "outputs": [
    {
     "data": {
      "text/plain": [
       "[<matplotlib.lines.Line2D at 0x17d5ac6b590>]"
      ]
     },
     "execution_count": 21,
     "metadata": {},
     "output_type": "execute_result"
    },
    {
     "data": {
      "image/png": "[encoded data removed]",
      "text/plain": [
       "<Figure size 640x480 with 1 Axes>"
      ]
     },
     "metadata": {},
     "output_type": "display_data"
    }
   ],
   "source": [
    "#Plot smaller circle\n",
    "x=np.linspace(start=-0.5,stop=0.5,num=500)\n",
    "y_positive=lambda x: np.sqrt(0.5**2-x**2) \n",
    "y_negative=lambda x: -np.sqrt(0.5**2-x**2)\n",
    "plt.plot(x,list(map(y_positive, x)), color='maroon')\n",
    "plt.plot(x,list(map(y_negative, x)),color='maroon')"
   ]
  },
  {
   "cell_type": "code",
   "execution_count": 23,
   "metadata": {},
   "outputs": [
    {
     "data": {
      "text/plain": [
       "<matplotlib.collections.PathCollection at 0x17d5a915d50>"
      ]
     },
     "execution_count": 23,
     "metadata": {},
     "output_type": "execute_result"
    },
    {
     "data": {
      "image/png": "[encoded data removed]",
      "text/plain": [
       "<Figure size 640x480 with 1 Axes>"
      ]
     },
     "metadata": {},
     "output_type": "display_data"
    }
   ],
   "source": [
    "#Create broken lines\n",
    "x=np.linspace(start=-1,stop=1,num=30)\n",
    "plt.scatter(x,[0]*len(x), marker='_',color='maroon')\n",
    "plt.scatter([0]*len(x), x, marker='|',color='maroon')"
   ]
  },
  {
   "cell_type": "code",
   "execution_count": 24,
   "metadata": {},
   "outputs": [],
   "source": [
    "#Define color list\n",
    "colors = ['blue', 'red', 'green', 'black', 'purple', 'brown']\n",
    "if len(pca_values[0]) > 6:\n",
    "    colors=colors*(int(len(pca_values[0])/6)+1)"
   ]
  },
  {
   "cell_type": "code",
   "execution_count": 17,
   "metadata": {},
   "outputs": [
    {
     "name": "stdout",
     "output_type": "stream",
     "text": [
      "Corrélation (Spearman) pour les données d'entrainement : 27.9%\n"
     ]
    }
   ],
   "source": [
    "lr = LinearRegression()\n",
    "\n",
    "X_train_clean = X_train\n",
    "Y_train_clean = Y_train['TARGET']\n",
    "\n",
    "lr.fit(X_train_clean, Y_train_clean)\n",
    "\n",
    "output_train = lr.predict(X_train_clean)\n",
    "\n",
    "def metric_train(output):\n",
    "\n",
    "    return  spearmanr(output, Y_train_clean).correlation\n",
    "\n",
    "print(\"Corrélation (Spearman) pour les données d'entrainement : {:.1f}%\".format(100 * metric_train(output_train) ))"
   ]
  }
 ],
 "metadata": {
  "kernelspec": {
   "display_name": "Python 3",
   "language": "python",
   "name": "python3"
  },
  "language_info": {
   "codemirror_mode": {
    "name": "ipython",
    "version": 3
   },
   "file_extension": ".py",
   "mimetype": "text/x-python",
   "name": "python",
   "nbconvert_exporter": "python",
   "pygments_lexer": "ipython3",
   "version": "3.11.1"
  },
  "orig_nbformat": 4
 },
 "nbformat": 4,
 "nbformat_minor": 2
}
